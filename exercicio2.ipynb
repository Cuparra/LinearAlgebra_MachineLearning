{
 "cells": [
  {
   "cell_type": "code",
   "execution_count": 10,
   "metadata": {},
   "outputs": [
    {
     "data": {
      "text/plain": [
       "<matplotlib.image.AxesImage at 0x7feb0baf79d0>"
      ]
     },
     "execution_count": 10,
     "metadata": {},
     "output_type": "execute_result"
    },
    {
     "data": {
      "image/png": "[encoded data removed]",
      "text/plain": [
       "<Figure size 432x288 with 1 Axes>"
      ]
     },
     "metadata": {
      "needs_background": "light"
     },
     "output_type": "display_data"
    }
   ],
   "source": [
    "import numpy as np\n",
    "import matplotlib.pyplot as plt\n",
    "\n",
    "# Tiago Moreira Trocoli da Cunha\n",
    "# Numero: 226078\n",
    "\n",
    "# 1) Leia o arquivo X.npy.\n",
    "X = np.load(\"X.npy\")\n",
    "\n",
    "# 2) Imprima a imagem.\n",
    "img = X[0,:].reshape(50,37)\n",
    "plt.imshow(img,plt.cm.gray)"
   ]
  },
  {
   "cell_type": "code",
   "execution_count": 25,
   "metadata": {},
   "outputs": [
    {
     "name": "stdout",
     "output_type": "stream",
     "text": [
      "True\n",
      "True\n",
      "(3023, 1850) (1850,) (1850, 1850)\n"
     ]
    }
   ],
   "source": [
    "# 3) Faça a fatoração svd da matriz X usando os dois metodos\n",
    "U1,D1,V1 = np.linalg.svd(X, full_matrices=True)\n",
    "U2,D2,V2 = np.linalg.svd(X, full_matrices=False)\n",
    "(m,n) = X.shape\n",
    "\n",
    "if U1.shape == (m,m) and D1.shape == (n,) and V1.shape == (n,n):\n",
    "    print \"True\"\n",
    "else:\n",
    "    print \"False\"\n",
    "if U2.shape == (m,n) and D2.shape == (n,) and V2.shape == (n,n):\n",
    "    print \"True\"\n",
    "else:\n",
    "    print \"False\"\n",
    "\n",
    "# transformando o vetor D2 em matrix diagonal com elementos de D2 \n",
    "D = np.zeros((n,n))\n",
    "for i in range(0,n):\n",
    "    D[i,i] = D2[i]\n",
    "print U2.shape, D2.shape, V2.shape"
   ]
  },
  {
   "cell_type": "code",
   "execution_count": 12,
   "metadata": {},
   "outputs": [
    {
     "name": "stdout",
     "output_type": "stream",
     "text": [
      "2.703829574102201e-05 129.54884\n"
     ]
    }
   ],
   "source": [
    "# 4) Verifique o maior valor em modulo da diferença do 2nd metodo, X - (U*D*V^T)\n",
    "max_err = np.absolute(np.amax(X - np.dot(U2,np.dot(D,V2))))\n",
    "# Compare esse valor com o valor médio dos dados em X\n",
    "print max_err, X.mean()"
   ]
  },
  {
   "cell_type": "code",
   "execution_count": 13,
   "metadata": {},
   "outputs": [
    {
     "name": "stdout",
     "output_type": "stream",
     "text": [
      "(3023, 1850)\n"
     ]
    }
   ],
   "source": [
    "# 5.1) matriz reduzida, k = 150\n",
    "k = 150\n",
    "XD = np.dot(U2[:,0:k],D[0:k,0:k])\n",
    "# 5.2) matrix reconstruida\n",
    "XC = np.dot(U2[:,0:k],np.dot(D[0:k,0:k],V2[0:k,:]))\n",
    "print X.shape"
   ]
  },
  {
   "cell_type": "code",
   "execution_count": 116,
   "metadata": {},
   "outputs": [
    {
     "data": {
      "text/plain": [
       "<matplotlib.image.AxesImage at 0x7f0d55e84c10>"
      ]
     },
     "execution_count": 116,
     "metadata": {},
     "output_type": "execute_result"
    },
    {
     "data": {
      "image/png": "[encoded data removed]",
      "text/plain": [
       "<Figure size 432x288 with 1 Axes>"
      ]
     },
     "metadata": {
      "needs_background": "light"
     },
     "output_type": "display_data"
    }
   ],
   "source": [
    "# 6) Imprimir a imagem reconstruida\n",
    "img = XC[0,:].reshape(50,37)\n",
    "plt.imshow(img,plt.cm.gray)"
   ]
  },
  {
   "cell_type": "code",
   "execution_count": 28,
   "metadata": {},
   "outputs": [
    {
     "data": {
      "text/plain": [
       "<matplotlib.image.AxesImage at 0x7feb0ed50c10>"
      ]
     },
     "execution_count": 28,
     "metadata": {},
     "output_type": "execute_result"
    },
    {
     "data": {
      "image/png": "[encoded data removed]",
      "text/plain": [
       "<Figure size 432x288 with 1 Axes>"
      ]
     },
     "metadata": {
      "needs_background": "light"
     },
     "output_type": "display_data"
    }
   ],
   "source": [
    "# 7) Use o TruncatedSVD do scikit-learn\n",
    "from sklearn.decomposition import TruncatedSVD\n",
    "svd = TruncatedSVD(n_components = k)\n",
    "\n",
    "U = svd.fit_transform(X)\n",
    "eigenvalues = svd.explained_variance_ratio_\n",
    "VT = svd.components_\n",
    "\n",
    "Sigma = np.zeros((k,k))\n",
    "for i in range(0,k):\n",
    "    Sigma[i,i] = eigenvalues[i]\n",
    "\n",
    "# matriz reduzida, k = 150\n",
    "XD = np.dot(U,Sigma)\n",
    "# matrix reconstruida\n",
    "XC = np.dot(U,np.dot(Sigma,VT))\n",
    "# Imprimir a imagem reconstruida\n",
    "img = XC[0,:].reshape(50,37)\n",
    "plt.imshow(img,plt.cm.gray)"
   ]
  },
  {
   "cell_type": "code",
   "execution_count": 27,
   "metadata": {},
   "outputs": [
    {
     "name": "stdout",
     "output_type": "stream",
     "text": [
      "[[-0.01482109 -0.01568116 -0.01729576 ... -0.02057458 -0.01954547\n",
      "  -0.01844866]\n",
      " [ 0.0216102   0.02143647  0.0230226  ... -0.04328211 -0.0405992\n",
      "  -0.03755841]\n",
      " [-0.047679   -0.04879177 -0.05002641 ... -0.04085335 -0.03925546\n",
      "  -0.03599704]\n",
      " ...\n",
      " [-0.004985   -0.02145993 -0.03894642 ... -0.02005021  0.03729107\n",
      "   0.01580687]\n",
      " [ 0.06194078  0.02756717 -0.0039066  ...  0.02508646  0.00127053\n",
      "   0.00861379]\n",
      " [-0.03826366 -0.03990286 -0.01235724 ... -0.00870327 -0.00207697\n",
      "   0.01216618]]\n"
     ]
    }
   ],
   "source": [
    "# 8) Imprima a primeira, segunda, 50-ésima e 150-ésima base (eigenfaces).\n",
    "\n",
    "print V2[0:k,:]"
   ]
  }
 ],
 "metadata": {
  "kernelspec": {
   "display_name": "Python 2",
   "language": "python",
   "name": "python2"
  },
  "language_info": {
   "codemirror_mode": {
    "name": "ipython",
    "version": 2
   },
   "file_extension": ".py",
   "mimetype": "text/x-python",
   "name": "python",
   "nbconvert_exporter": "python",
   "pygments_lexer": "ipython2",
   "version": "2.7.15"
  }
 },
 "nbformat": 4,
 "nbformat_minor": 2
}
