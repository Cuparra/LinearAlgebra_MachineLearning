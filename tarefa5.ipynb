{
 "cells": [
  {
   "cell_type": "code",
   "execution_count": 12,
   "metadata": {},
   "outputs": [],
   "source": [
    "# Tiago Moreira Trocoli da Cunha\n",
    "# 226078\n",
    "from __future__ import division\n",
    "import numpy as np\n",
    "from sklearn.svm import SVR\n",
    "\n",
    "# matrix of 404 sample with 13 variables.\n",
    "Xtreino = np.load(\"Xtreino5.npy\")\n",
    "Ytreino = np.load(\"ytreino5.npy\")\n",
    "\n",
    "# matrix of 102 tests with 13 variables.\n",
    "Xteste = np.load(\"Xteste5.npy\")\n",
    "Yteste = np.load(\"yteste5.npy\")    \n",
    "\n",
    "# mean squared error\n",
    "def mean_squared_error(X,Y):\n",
    "    m = np.size(X)\n",
    "    return (1.0/m)*(np.sum((X-Y)**2))"
   ]
  },
  {
   "cell_type": "code",
   "execution_count": 66,
   "metadata": {},
   "outputs": [
    {
     "name": "stdout",
     "output_type": "stream",
     "text": [
      "Minimum Mean Squared Error:  50.83517760360566\n",
      "C =  30312.107118378884\n",
      "epsilon =  0.18228006191494311\n",
      "gamma =  0.06595548500545227\n"
     ]
    }
   ],
   "source": [
    "# 1) random search\n",
    "\n",
    "# vector of mean squared erros (MSE)\n",
    "mse = np.zeros(120,dtype=np.float64)\n",
    "\n",
    "# vector of parameters\n",
    "params = np.zeros((120,3),dtype=np.float64)\n",
    "\n",
    "# generate parameters uniformaly\n",
    "c        = np.random.uniform(2**(-5), 2**(15),120)\n",
    "gamma    = np.random.uniform(2**(-15),2**3, 120)\n",
    "epsilon  = np.random.uniform(0.05,1.0, 120)\n",
    "\n",
    "for i in range(120):\n",
    "    \n",
    "    clf = SVR(kernel='rbf', gamma=gamma[i], C=c[i], epsilon=epsilon[i])\n",
    "    clf.fit(Xtreino, Ytreino)\n",
    "    mse[i] = mean_squared_error(clf.predict(Xteste),Yteste)\n",
    "    params[i] = [clf.get_params()['C'], clf.get_params()['epsilon'], clf.get_params()['gamma']]\n",
    "    \n",
    "min_idx = np.argmin(mse)\n",
    "param   = params[min_idx]\n",
    "\n",
    "print \"Minimum Mean Squared Error: \", mse[min_idx]\n",
    "print \"C = \", param[0]\n",
    "print 'epsilon = ', param[1]\n",
    "print \"gamma = \", param[2]"
   ]
  },
  {
   "cell_type": "code",
   "execution_count": 25,
   "metadata": {},
   "outputs": [
    {
     "name": "stdout",
     "output_type": "stream",
     "text": [
      "Minimum Mean Squared Error:  13.86700621013392\n",
      "{'epsilon': 1.0, 'C': 16384.015625, 'gamma': 3.0517578125e-05, 'kernel': 'rbf'}\n"
     ]
    }
   ],
   "source": [
    "# 2) Grid seach\n",
    "from sklearn.model_selection import GridSearchCV\n",
    "\n",
    "# Set the parameters by cross-validation\n",
    "tuned_parameters = [{'kernel': ['rbf'], \n",
    "                     'gamma': np.linspace(2**(-15),2**3, 5),\n",
    "                     'C': np.linspace(2**(-5), 2**(15),5),\n",
    "                     'epsilon': np.linspace(0.05,1.0, 5)}]\n",
    "\n",
    "clf = GridSearchCV(SVR(), tuned_parameters, cv=5, scoring='neg_mean_squared_error',iid='False')\n",
    "clf.fit(Xtreino, Ytreino)\n",
    "mse = mean_squared_error(clf.predict(Xteste),Yteste)\n",
    "print \"Minimum Mean Squared Error: \", mse\n",
    "print clf.best_params_"
   ]
  },
  {
   "cell_type": "code",
   "execution_count": 26,
   "metadata": {},
   "outputs": [
    {
     "name": "stdout",
     "output_type": "stream",
     "text": [
      "100%|██████████| 125/125 [00:03<00:00, 32.88it/s, best loss: 30.0741277169]\n",
      "{'epsilon': 0.6111793828581504, 'C': 4001.914584128272, 'gamma': 0.008261913272106671}\n"
     ]
    }
   ],
   "source": [
    "# 3) Otimizacao bayesiana\n",
    "import pickle\n",
    "import time\n",
    "from hyperopt import fmin, tpe, hp, STATUS_OK\n",
    "\n",
    "# return the mean squared error\n",
    "def function(args):\n",
    "    gamma, C, epsilon = args\n",
    "    clf    = SVR(kernel='rbf', gamma=gamma, C=C, epsilon=epsilon)\n",
    "    clf.fit(Xtreino, Ytreino)\n",
    "    return mean_squared_error(clf.predict(Xteste),Yteste)\n",
    "\n",
    "# defining the search space, we'll explore this more later\n",
    "space = [hp.uniform('gamma', 2**(-15),2**3), \n",
    "         hp.uniform('C', 2**(-5), 2**(15)), \n",
    "         hp.uniform('epsilon', 0.05,1.0)]\n",
    "\n",
    "# calling the hyperopt function\n",
    "best = fmin(function,space,algo=tpe.suggest,max_evals=125)\n",
    "\n",
    "print best"
   ]
  },
  {
   "cell_type": "code",
   "execution_count": 25,
   "metadata": {},
   "outputs": [
    {
     "name": "stdout",
     "output_type": "stream",
     "text": [
      "Stopping search: maximum iterations reached --> 11\n",
      "Minimum Mean Squared Error:  11.431394554060141\n",
      "C =  18583.344465570797\n",
      "epsilon =  0.05\n",
      "gamma =  3.0517578125e-05\n"
     ]
    }
   ],
   "source": [
    "# 4) PSO\n",
    "\n",
    "# Encontre as constantes que multiplicam o momento ou inercia, a direcao do melhor ponto \n",
    "# da particula e a direcao do melhor global.\n",
    "\n",
    "# Resposta:\n",
    "# phip = Scaling factor to search away from the particle’s best known position\n",
    "# phig = Scaling factor to search away from the swarm’s best known position\n",
    "# omega = Particle velocity scaling factor\n",
    "\n",
    "from pyswarm import pso\n",
    "\n",
    "# cost =  mean squared error\n",
    "def cost(x):\n",
    "    clf = SVR(kernel='rbf', gamma=x[0], C=x[1], epsilon=x[2])\n",
    "    clf.fit(Xtreino, Ytreino)\n",
    "    return mean_squared_error(clf.predict(Xteste),Yteste)\n",
    "\n",
    "lb = [2**(-15), 2**(-5), 0.05]\n",
    "ub = [2**3, 2**(15), 1.0]\n",
    "\n",
    "xopt, fopt = pso(cost, lb, ub, maxiter=11, swarmsize=11)\n",
    "\n",
    "print \"Minimum Mean Squared Error: \", fopt\n",
    "print \"C = \", xopt[1]\n",
    "print 'epsilon = ', xopt[2]\n",
    "print \"gamma = \", xopt[0]"
   ]
  },
  {
   "cell_type": "code",
   "execution_count": 24,
   "metadata": {},
   "outputs": [
    {
     "name": "stdout",
     "output_type": "stream",
     "text": [
      "Minimum Mean Squared Error:  29.851263895302164\n",
      "C =  9786.807449296117\n",
      "epsilon =  0.10436806903015779\n",
      "gamma =  0.01287783682346344\n"
     ]
    }
   ],
   "source": [
    "# 5) Simulated annealing\n",
    "# Como nao entendi direito o simannel, usei o dual_annealing da biblioteca scipy.optimize.\n",
    "# quando o no_local_search=True, o algoritmo irá funcionar como tradicional \n",
    "# Generalized Simulated Annealing.\n",
    "\n",
    "# http://scipy.github.io/devdocs/generated/scipy.optimize.dual_annealing.html#scipy.optimize.dual_annealing\n",
    "\n",
    "from scipy.optimize import dual_annealing\n",
    "\n",
    "def objective(args):\n",
    "    gamma, C, epsilon = args\n",
    "    clf = SVR(kernel='rbf', gamma=gamma, C=C, epsilon=epsilon)\n",
    "    clf.fit(Xtreino, Ytreino)\n",
    "    return  mean_squared_error(clf.predict(Xteste),Yteste)\n",
    "\n",
    "    \n",
    "lw = [2**(-15), 2**(-5), 0.05]\n",
    "up = [2**3, 2**(15), 1.0]\n",
    "\n",
    "minima = 2147483648\n",
    "args = np.array([0,0,0])\n",
    "\n",
    "for i in range(0,125):\n",
    "    result = dual_annealing(objective, bounds=list(zip(lw, up)), no_local_search=True, maxiter = 10)\n",
    "\n",
    "    if(minima > result.fun):\n",
    "        minima = result.fun\n",
    "        args   = result.x\n",
    "        \n",
    "print \"Minimum Mean Squared Error: \", minima\n",
    "print \"C = \", args[1]\n",
    "print 'epsilon = ', args[2]\n",
    "print \"gamma = \", args[0]"
   ]
  }
 ],
 "metadata": {
  "kernelspec": {
   "display_name": "Python 2",
   "language": "python",
   "name": "python2"
  },
  "language_info": {
   "codemirror_mode": {
    "name": "ipython",
    "version": 2
   },
   "file_extension": ".py",
   "mimetype": "text/x-python",
   "name": "python",
   "nbconvert_exporter": "python",
   "pygments_lexer": "ipython2",
   "version": "2.7.15"
  }
 },
 "nbformat": 4,
 "nbformat_minor": 2
}
